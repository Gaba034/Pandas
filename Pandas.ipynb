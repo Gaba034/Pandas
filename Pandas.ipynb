{
  "nbformat": 4,
  "nbformat_minor": 0,
  "metadata": {
    "colab": {
      "provenance": []
    },
    "kernelspec": {
      "name": "python3",
      "display_name": "Python 3"
    },
    "language_info": {
      "name": "python"
    }
  },
  "cells": [
    {
      "cell_type": "code",
      "execution_count": 185,
      "metadata": {
        "id": "qHkF1GH6Wo90"
      },
      "outputs": [],
      "source": [
        "from google.colab import drive\n",
        "import pandas as pd\n",
        "df = pd.read_csv('/content/pandasmess/MyDrive/ExcelColab/FinancialData.csv')"
      ]
    },
    {
      "cell_type": "code",
      "source": [
        "print(df)"
      ],
      "metadata": {
        "id": "nIiogRaesdLm"
      },
      "execution_count": null,
      "outputs": []
    },
    {
      "cell_type": "code",
      "source": [
        "pd.set_option('display.width', 1000) # Tamanho lateral máximo\n",
        "pd.set_option('display.max_columns', None) # Libera o display de todas as colunas\n",
        "pd.set_option('display.max_rows', None) # Libera o display de todas as linhas\n",
        "\n",
        "filter = df.columns[5:17]\n",
        "\n",
        "for coluna in filter:\n",
        "\n",
        "    df[coluna] = df[coluna].astype(str).str.replace('\\$', '').str.replace(r'(', '-').str.replace(')', '').str.replace(',', '').str.replace('.', '')\n",
        "    df[coluna] = pd.to_numeric(df[coluna], errors='coerce')\n",
        "\n",
        "\n",
        "df['Total'] = df.iloc[:, 5:17].sum(axis=1)\n",
        "df['Total'] = df.groupby('Businees Unit')['Total'].transform('sum')\n",
        "df.reset_index(drop=True, inplace=True)\n",
        "print(df)\n",
        "\n",
        "\n",
        "\n"
      ],
      "metadata": {
        "colab": {
          "base_uri": "https://localhost:8080/"
        },
        "id": "FhWRcAOQd_Ec",
        "outputId": "741e6a19-2e5b-45c4-d8ee-9d69b6ea7000"
      },
      "execution_count": 196,
      "outputs": [
        {
          "output_type": "stream",
          "name": "stdout",
          "text": [
            "  Account Businees Unit Currency  Year Scenario       Jan       Feb       Mar       Apr       May       Jun       Jul       Aug       Sep       Oct       Nov       Dec      Total\n",
            "0   Sales      Software      USD  2012  Actuals  90924002  82606134  72780220  52943701  77528109  96384524  77345061  98290873  79879127  95373403  54887908  82703597  961646659\n",
            "1   Sales   Advertising      USD  2012  Actuals  20003280  24781840  15283846  15883110  19382027  22168441  18562815  29487262  23164947  27658287  14819735  18194791  249390381\n",
            "2   Sales      Hardware      USD  2012  Actuals  32732641  30564270  26200879  19589169  29460681  36626119  23976969  34401806  29555277  31473223  17015251  31427367  343023652\n"
          ]
        },
        {
          "output_type": "stream",
          "name": "stderr",
          "text": [
            "<ipython-input-196-3cd5cd7d87a0>:9: FutureWarning: The default value of regex will change from True to False in a future version.\n",
            "  df[coluna] = df[coluna].astype(str).str.replace('\\$', '').str.replace(r'(', '-').str.replace(')', '').str.replace(',', '').str.replace('.', '')\n",
            "<ipython-input-196-3cd5cd7d87a0>:9: FutureWarning: The default value of regex will change from True to False in a future version. In addition, single character regular expressions will *not* be treated as literal strings when regex=True.\n",
            "  df[coluna] = df[coluna].astype(str).str.replace('\\$', '').str.replace(r'(', '-').str.replace(')', '').str.replace(',', '').str.replace('.', '')\n"
          ]
        }
      ]
    }
  ]
}